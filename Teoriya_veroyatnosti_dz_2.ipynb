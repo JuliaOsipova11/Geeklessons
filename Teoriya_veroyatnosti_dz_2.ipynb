{
 "cells": [
  {
   "cell_type": "markdown",
   "id": "05e694d2",
   "metadata": {},
   "source": [
    "### Задание 1\n",
    "Вероятность того, что стрелок попадет в мишень, выстрелив один раз, равна 0.8. Стрелок выстрелил 100 раз. Найдите вероятность того, что стрелок попадет в цель ровно 85 раз."
   ]
  },
  {
   "cell_type": "code",
   "execution_count": 28,
   "id": "0ed57ea1",
   "metadata": {},
   "outputs": [],
   "source": [
    "import numpy as np\n",
    "from math import factorial as fl"
   ]
  },
  {
   "cell_type": "code",
   "execution_count": 29,
   "id": "7a28c0f1",
   "metadata": {},
   "outputs": [
    {
     "data": {
      "text/plain": [
       "0.048061793700746355"
      ]
     },
     "execution_count": 29,
     "metadata": {},
     "output_type": "execute_result"
    }
   ],
   "source": [
    "def combinations(n , k):\n",
    "    return fl(n) / (fl(k) * fl(n - k))\n",
    "#P(n, k) = C(n, k) * p ** k * q ** (n - k)\n",
    "def bernuli(n, p, k):\n",
    "    return combinations(n, k) * p ** k * (1 - p) ** (n - k)\n",
    "p = 0.8\n",
    "n = 100\n",
    "k = 85\n",
    "q = 0.2\n",
    "res_1 = bernuli(n, p, k)\n",
    "res_1"
   ]
  },
  {
   "cell_type": "markdown",
   "id": "f2c4eef2",
   "metadata": {},
   "source": [
    "### Задание 2.\n",
    "Вероятность того, что лампочка перегорит в течение первого дня эксплуатации, равна 0.0004. В жилом комплексе после ремонта в один день включили 5000 новых лампочек. Какова вероятность, что ни одна из них не перегорит в первый день? Какова вероятность, что перегорят ровно две?"
   ]
  },
  {
   "cell_type": "markdown",
   "id": "f8fb9104",
   "metadata": {},
   "source": [
    "Рассчитываю по формуе Пуассона, тк вероятность появления события в отдельном испытании мала."
   ]
  },
  {
   "cell_type": "code",
   "execution_count": 30,
   "id": "4cac2590",
   "metadata": {},
   "outputs": [
    {
     "data": {
      "text/plain": [
       "0.13516435986159167"
      ]
     },
     "execution_count": 30,
     "metadata": {},
     "output_type": "execute_result"
    }
   ],
   "source": [
    "#P(k) = l ** m / m! * e ** (-l)\n",
    "p = 0.0004\n",
    "n = 5000\n",
    "m = 0\n",
    "l = p * n\n",
    "res_2 = l ** m / fl(m) * 2.72 ** (-l)\n",
    "res_2"
   ]
  },
  {
   "cell_type": "code",
   "execution_count": 31,
   "id": "53b2a909",
   "metadata": {},
   "outputs": [
    {
     "data": {
      "text/plain": [
       "0.27032871972318334"
      ]
     },
     "execution_count": 31,
     "metadata": {},
     "output_type": "execute_result"
    }
   ],
   "source": [
    "#P(k) = l ** m / m! * e ** (-l)\n",
    "p = 0.0004\n",
    "n = 5000\n",
    "m = 2\n",
    "l = p * n\n",
    "res_3 = l ** m / fl(m) * 2.72 ** (-l)\n",
    "res_3"
   ]
  },
  {
   "cell_type": "markdown",
   "id": "d694e56b",
   "metadata": {},
   "source": [
    "### Задание 3\n",
    "Монету подбросили 144 раза. Какова вероятность, что орел выпадет ровно 70 раз?\n"
   ]
  },
  {
   "cell_type": "code",
   "execution_count": 27,
   "id": "5046d4a8",
   "metadata": {},
   "outputs": [
    {
     "data": {
      "text/plain": [
       "0.06281178035144776"
      ]
     },
     "execution_count": 27,
     "metadata": {},
     "output_type": "execute_result"
    }
   ],
   "source": [
    "n = 144\n",
    "k = 70\n",
    "p = 0.5\n",
    "res_4= bernuli(n, p, k)\n",
    "res_4"
   ]
  },
  {
   "cell_type": "markdown",
   "id": "6926870f",
   "metadata": {},
   "source": [
    "### Задание 4.\n",
    "В первом ящике находится 10 мячей, из которых 7 - белые. Во втором ящике - 11 мячей, из которых 9 белых. Из каждого ящика вытаскивают случайным образом по два мяча. "
   ]
  },
  {
   "cell_type": "markdown",
   "id": "65c112ed",
   "metadata": {},
   "source": [
    "Какова вероятность того, что все мячи белые? "
   ]
  },
  {
   "cell_type": "code",
   "execution_count": 32,
   "id": "7194569f",
   "metadata": {},
   "outputs": [
    {
     "name": "stdout",
     "output_type": "stream",
     "text": [
      "Вероятность того, что все мячи белые = 0.305\n"
     ]
    }
   ],
   "source": [
    "PA1 = (fl(7) / (fl(2)*fl(7 - 2))) / (fl(10) / (fl(2)*fl(10 - 2)))\n",
    "PA2 = (fl(9) / (fl(2)*fl(9 - 2))) / (fl(11) / (fl(2)*fl(11 - 2)))\n",
    "print(f'Вероятность того, что все мячи белые = {PA1 * PA2 :.3f}')"
   ]
  },
  {
   "cell_type": "markdown",
   "id": "dae3693d",
   "metadata": {},
   "source": [
    "Какова вероятность того, что ровно два мяча белые? "
   ]
  },
  {
   "cell_type": "markdown",
   "id": "cdcc129b",
   "metadata": {},
   "source": [
    "A11 - из первого ящика вынули два белых мяча\n",
    "\n",
    "А12 - из второго ящика вынули только черные мячи\n",
    "\n",
    "А21 - из второго ящика вынули два белых мяча\n",
    "\n",
    "А22 - из первого ящика вынули только черные мячи\n",
    "\n",
    "А31 - из первого ящика вынули один белый мячи\n",
    "\n",
    "А32 - из второго ящика вынули один белый мячи\n",
    "\n",
    "А = А11 * А12 + А21 * А22 + А31 * А32 - вынули ровно два белых мяча"
   ]
  },
  {
   "cell_type": "code",
   "execution_count": 34,
   "id": "f219589f",
   "metadata": {},
   "outputs": [],
   "source": [
    "PA11A12 =  (fl(7) / (fl(2)*fl(7 - 2))) / (fl(10) / (fl(2)*fl(10 - 2))) * (fl(2) / (fl(2)*fl(2 - 2))) / (fl(11) / (fl(2)*fl(11 - 2)))\n"
   ]
  },
  {
   "cell_type": "code",
   "execution_count": 35,
   "id": "e15c3099",
   "metadata": {},
   "outputs": [],
   "source": [
    "PA21A22 = (fl(3) / (fl(2)*fl(3 - 2))) / (fl(10) / (fl(2)*fl(10 - 2))) * (fl(9) / (fl(2)*fl(9 - 2))) / (fl(11) / (fl(2)*fl(11 - 2)))"
   ]
  },
  {
   "cell_type": "code",
   "execution_count": 36,
   "id": "0d79dbe2",
   "metadata": {},
   "outputs": [],
   "source": [
    "PA31 = (fl(7) / (fl(1)*fl(7 - 1)) * fl(3)) / (fl(1)*fl(3 - 1)) / (fl(10) / (fl(2)*fl(10 - 2))) \n",
    "PA32 = (fl(9) / (fl(1)*fl(9 - 1)) * fl(2)) / (fl(1)*fl(2 - 1)) / (fl(11) / (fl(2)*fl(11 - 2)))"
   ]
  },
  {
   "cell_type": "code",
   "execution_count": 37,
   "id": "d3bd7b45",
   "metadata": {},
   "outputs": [
    {
     "name": "stdout",
     "output_type": "stream",
     "text": [
      "Вероятность того, что вынут ровно два белых мяча = 0.205\n"
     ]
    }
   ],
   "source": [
    "PA = PA11A12 + PA21A22 + PA31 * PA32\n",
    "print(f'Вероятность того, что вынут ровно два белых мяча = {PA :.3f}')"
   ]
  },
  {
   "cell_type": "markdown",
   "id": "d2f63972",
   "metadata": {},
   "source": [
    "Какова вероятность того, что хотя бы один мяч белый?"
   ]
  },
  {
   "cell_type": "code",
   "execution_count": 39,
   "id": "025ee1bb",
   "metadata": {},
   "outputs": [
    {
     "name": "stdout",
     "output_type": "stream",
     "text": [
      "Вероятность того, что вытянут хотя бы один белый мяч = 0.999\n"
     ]
    }
   ],
   "source": [
    "PA = 1 - (fl(3) / (fl(2)*fl(3 - 2))) / (fl(10) / (fl(2)*fl(10 - 2))) * (fl(2) / (fl(2)*fl(2 - 2))) / (fl(11) / (fl(2)*fl(11 - 2)))\n",
    "print(f'Вероятность того, что вытянут хотя бы один белый мяч = {PA :.3f}')"
   ]
  },
  {
   "cell_type": "code",
   "execution_count": null,
   "id": "a431ba38",
   "metadata": {},
   "outputs": [],
   "source": []
  }
 ],
 "metadata": {
  "kernelspec": {
   "display_name": "Python 3 (ipykernel)",
   "language": "python",
   "name": "python3"
  },
  "language_info": {
   "codemirror_mode": {
    "name": "ipython",
    "version": 3
   },
   "file_extension": ".py",
   "mimetype": "text/x-python",
   "name": "python",
   "nbconvert_exporter": "python",
   "pygments_lexer": "ipython3",
   "version": "3.11.3"
  }
 },
 "nbformat": 4,
 "nbformat_minor": 5
}
