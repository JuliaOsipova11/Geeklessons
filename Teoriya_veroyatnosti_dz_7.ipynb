{
 "cells": [
  {
   "cell_type": "code",
   "execution_count": 46,
   "id": "4df0f11f",
   "metadata": {},
   "outputs": [],
   "source": [
    "import pandas as pd\n",
    "import numpy as np\n",
    "from scipy import stats\n",
    "import matplotlib.pyplot as plt\n",
    "import seaborn as sns\n",
    "from pylab import rcParams"
   ]
  },
  {
   "cell_type": "markdown",
   "id": "b28c0cd7",
   "metadata": {},
   "source": [
    "1-4 задачи решать с помощью функций, 5ю вручную\n",
    "Выбрать тест и проверить, есть  ли различия между выборками:\n"
   ]
  },
  {
   "cell_type": "markdown",
   "id": "8553cc5d",
   "metadata": {},
   "source": [
    "### Задача 1.\n",
    "Даны две  независимые выборки. Не соблюдается условие нормальности\n",
    "x1  380,420, 290\n",
    "y1 140,360,200,900\n",
    "\n",
    "Сделайте вывод по результатам, полученным с помощью функции"
   ]
  },
  {
   "cell_type": "markdown",
   "id": "4c544d85",
   "metadata": {},
   "source": [
    "Использую критерий Манна Уитни.\n"
   ]
  },
  {
   "cell_type": "code",
   "execution_count": 20,
   "id": "8cd60b2c",
   "metadata": {},
   "outputs": [],
   "source": [
    "x1 = np.array([380, 420, 290])\n",
    "x2 = np.array([140, 360, 200, 900])"
   ]
  },
  {
   "cell_type": "code",
   "execution_count": 24,
   "id": "4b1c23bc",
   "metadata": {},
   "outputs": [
    {
     "data": {
      "text/plain": [
       "MannwhitneyuResult(statistic=8.0, pvalue=0.6285714285714286)"
      ]
     },
     "execution_count": 24,
     "metadata": {},
     "output_type": "execute_result"
    }
   ],
   "source": [
    "stats.mannwhitneyu (x1, x2)"
   ]
  },
  {
   "cell_type": "markdown",
   "id": "1f093cfb",
   "metadata": {},
   "source": [
    "### Вывод: \n",
    "статистически значимых различий не обнаружено на уровне значимости а = 0,05."
   ]
  },
  {
   "cell_type": "markdown",
   "id": "16578768",
   "metadata": {},
   "source": [
    "### Задача 2.\n",
    "Исследовалось влияние препарата на уровень давления пациентов. Сначала измерялось давление до приема препарата, потом через 10 минут и через 30 минут. Есть ли статистически значимые различия?\n",
    "\n",
    "1е измерение до приема препарата: 150, 160, 165, 145, 155\n",
    "2е измерение через 10 минут: 140, 155, 150,  130, 135\n",
    "3е измерение через 30 минут: 130, 130, 120, 130, 125\n"
   ]
  },
  {
   "cell_type": "markdown",
   "id": "bdbd4cb6",
   "metadata": {},
   "source": [
    "Использую критерий Фридмана"
   ]
  },
  {
   "cell_type": "code",
   "execution_count": 22,
   "id": "01523884",
   "metadata": {},
   "outputs": [],
   "source": [
    "before = np.array([150, 160, 165, 145, 155])\n",
    "pressure1 = np.array([140, 155, 150, 130, 135])\n",
    "pressure2 = np.array([130, 130, 120, 130, 125])"
   ]
  },
  {
   "cell_type": "code",
   "execution_count": 23,
   "id": "cb159823",
   "metadata": {},
   "outputs": [
    {
     "data": {
      "text/plain": [
       "FriedmanchisquareResult(statistic=9.578947368421062, pvalue=0.00831683351100441)"
      ]
     },
     "execution_count": 23,
     "metadata": {},
     "output_type": "execute_result"
    }
   ],
   "source": [
    "stats. friedmanchisquare(before, pressure1, pressure2)"
   ]
  },
  {
   "cell_type": "markdown",
   "id": "25646d07",
   "metadata": {},
   "source": [
    "### Вывод: \n",
    "статистически значимые различия обнаружены на уровне значимости а = 0,05. Препарат влияет на уровень давления пациентов."
   ]
  },
  {
   "cell_type": "markdown",
   "id": "50079e4d",
   "metadata": {},
   "source": [
    "### Задача 3.\n",
    "Сравните 1 и 2 е измерения, предполагая, что 3го измерения через 30 минут не было.\n",
    "\n",
    "Исследовалось влияние препарата на уровень давления пациентов. Сначала измерялось давление до приема препарата, потом через 10 минут и через 30 минут. Есть ли статистически значимые различия?\n",
    "\n",
    "1е измерение до приема препарата: 150, 160, 165, 145, 155 2е измерение через 10 минут: 140, 155, 150, 130, 135"
   ]
  },
  {
   "cell_type": "markdown",
   "id": "fd2cea42",
   "metadata": {},
   "source": [
    "Использую критерий Уилкоксона."
   ]
  },
  {
   "cell_type": "code",
   "execution_count": 28,
   "id": "194411a3",
   "metadata": {},
   "outputs": [
    {
     "data": {
      "text/plain": [
       "array([-10,  -5, -15, -15, -20])"
      ]
     },
     "execution_count": 28,
     "metadata": {},
     "output_type": "execute_result"
    }
   ],
   "source": [
    "x1 = np.array([150, 160, 165, 145, 155])\n",
    "x2 = np.array([140, 155, 150, 130, 135])\n",
    "x2-x1\n"
   ]
  },
  {
   "cell_type": "code",
   "execution_count": 27,
   "id": "eaa783eb",
   "metadata": {},
   "outputs": [
    {
     "data": {
      "text/plain": [
       "WilcoxonResult(statistic=0.0, pvalue=0.0625)"
      ]
     },
     "execution_count": 27,
     "metadata": {},
     "output_type": "execute_result"
    }
   ],
   "source": [
    "stats.wilcoxon(x1, x2)"
   ]
  },
  {
   "cell_type": "markdown",
   "id": "59e1934e",
   "metadata": {},
   "source": [
    "### Задача 4.\n",
    " Даны 3 группы  учеников плавания.\n",
    "В 1 группе время на дистанцию 50 м составляют:\n",
    "56, 60, 62, 55, 71, 67, 59, 58, 64, 67\n",
    "\n",
    "Вторая группа : 57, 58, 69, 48, 72, 70, 68, 71, 50, 53\n",
    "Третья группа: 57, 67, 49, 48, 47, 55, 66, 51, 54"
   ]
  },
  {
   "cell_type": "markdown",
   "id": "0c639a5f",
   "metadata": {},
   "source": [
    "Использую критерий Крускала –Уоллиса "
   ]
  },
  {
   "cell_type": "code",
   "execution_count": 29,
   "id": "b5b3167d",
   "metadata": {},
   "outputs": [],
   "source": [
    "gr_1 = np.array([56, 60, 62, 55, 71, 67, 59, 58, 64, 67])\n",
    "gr_2 = np.array([57, 58, 69, 48, 72, 70, 68, 71, 50, 53])\n",
    "gr_3 = np.array([57, 67, 49, 48, 47, 55, 66, 51, 54])"
   ]
  },
  {
   "cell_type": "code",
   "execution_count": 30,
   "id": "2a4a2966",
   "metadata": {},
   "outputs": [
    {
     "data": {
      "text/plain": [
       "KruskalResult(statistic=5.465564058257224, pvalue=0.0650380998590494)"
      ]
     },
     "execution_count": 30,
     "metadata": {},
     "output_type": "execute_result"
    }
   ],
   "source": [
    "stats.kruskal(gr_1, gr_2, gr_3)"
   ]
  },
  {
   "cell_type": "markdown",
   "id": "2ebe1d1e",
   "metadata": {},
   "source": [
    "### Вывод: \n",
    "статистически значимых различий не обнаружено на уровне значимости а = 0,05."
   ]
  },
  {
   "cell_type": "markdown",
   "id": "6055716b",
   "metadata": {},
   "source": [
    "### Задача 5.\n",
    "Заявляется, что партия изготавливается со средним арифметическим 2,5 см. Проверить данную гипотезу, если известно, что размеры изделий подчинены нормальному закону распределения. Объем выборки 10, уровень статистической значимости 5%\n",
    "\n",
    "2.51, 2.35, 2.74, 2.56, 2.40, 2.36, 2.65, 2.7, 2.67, 2.34"
   ]
  },
  {
   "cell_type": "code",
   "execution_count": 39,
   "id": "09511812",
   "metadata": {},
   "outputs": [
    {
     "data": {
      "text/plain": [
       "2.5279999999999996"
      ]
     },
     "execution_count": 39,
     "metadata": {},
     "output_type": "execute_result"
    }
   ],
   "source": [
    "X = np.array([2.51, 2.35, 2.74, 2.56, 2.40, 2.36, 2.65, 2.7, 2.67, 2.34])\n",
    "n = 10\n",
    "mean_X = X.mean()\n",
    "mean_X"
   ]
  },
  {
   "cell_type": "code",
   "execution_count": 40,
   "id": "780b2d17",
   "metadata": {},
   "outputs": [
    {
     "data": {
      "text/plain": [
       "0.1572542173961923"
      ]
     },
     "execution_count": 40,
     "metadata": {},
     "output_type": "execute_result"
    }
   ],
   "source": [
    "std_X = X.std(ddof=1)\n",
    "std_X"
   ]
  },
  {
   "cell_type": "code",
   "execution_count": 42,
   "id": "f4e85374",
   "metadata": {},
   "outputs": [
    {
     "data": {
      "text/plain": [
       "0.563061366180296"
      ]
     },
     "execution_count": 42,
     "metadata": {},
     "output_type": "execute_result"
    }
   ],
   "source": [
    "t_fact = (mean_X - 2.5) / std_X * np.sqrt(10)\n",
    "t_fact"
   ]
  },
  {
   "cell_type": "code",
   "execution_count": 44,
   "id": "8c127a6f",
   "metadata": {},
   "outputs": [],
   "source": [
    "t_znach = 1,812"
   ]
  },
  {
   "cell_type": "code",
   "execution_count": 49,
   "id": "9f932bd5",
   "metadata": {},
   "outputs": [
    {
     "data": {
      "text/plain": [
       "TtestResult(statistic=0.5630613661802959, pvalue=0.5871439993940628, df=9)"
      ]
     },
     "execution_count": 49,
     "metadata": {},
     "output_type": "execute_result"
    }
   ],
   "source": [
    "stats.ttest_1samp(X, 2.5)"
   ]
  },
  {
   "cell_type": "markdown",
   "id": "8cedbcab",
   "metadata": {},
   "source": [
    "### Вывод:\n",
    "Так как t_fact < t_znach, то заявление, что партия изготавливается со средним арифметическим 2,5 см верно."
   ]
  },
  {
   "cell_type": "code",
   "execution_count": null,
   "id": "e515600f",
   "metadata": {},
   "outputs": [],
   "source": []
  }
 ],
 "metadata": {
  "kernelspec": {
   "display_name": "Python 3 (ipykernel)",
   "language": "python",
   "name": "python3"
  },
  "language_info": {
   "codemirror_mode": {
    "name": "ipython",
    "version": 3
   },
   "file_extension": ".py",
   "mimetype": "text/x-python",
   "name": "python",
   "nbconvert_exporter": "python",
   "pygments_lexer": "ipython3",
   "version": "3.11.3"
  }
 },
 "nbformat": 4,
 "nbformat_minor": 5
}
