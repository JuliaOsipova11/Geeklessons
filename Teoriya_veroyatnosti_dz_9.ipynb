{
 "cells": [
  {
   "cell_type": "code",
   "execution_count": 1,
   "id": "41ee8439",
   "metadata": {},
   "outputs": [],
   "source": [
    "import numpy as np\n",
    "from matplotlib import pyplot as plt"
   ]
  },
  {
   "cell_type": "markdown",
   "id": "a298943f",
   "metadata": {},
   "source": [
    "### Задача 1.\n",
    "Даны значения величины заработной платы заемщиков банка (zp) и значения их поведенческого кредитного скоринга (ks): zp = [35, 45, 190, 200, 40, 70, 54, 150, 120, 110], ks = [401, 574, 874, 919, 459, 739, 653, 902, 746, 832]. Используя математические операции, посчитать коэффициенты линейной регрессии, приняв за X заработную плату (то есть, zp - признак), а за y - значения скорингового балла (то есть, ks - целевая переменная). Произвести расчет как с использованием intercept, так и без."
   ]
  },
  {
   "cell_type": "code",
   "execution_count": 11,
   "id": "e3b37b7c",
   "metadata": {},
   "outputs": [
    {
     "name": "stdout",
     "output_type": "stream",
     "text": [
      "2.620538882402765 444.1773573243596\n"
     ]
    }
   ],
   "source": [
    "# y = b1 * x + b0, где x - влияющий параметр\n",
    "X1= np.array([35, 45, 190, 200, 40, 70, 54, 150, 120, 110])\n",
    "Y1= np.array([401, 574, 874, 919, 459, 739, 653, 902, 746, 832])\n",
    "b1 = (np.mean(X1 * Y1) - np.mean(Y1) * np.mean(X1)) / (np.mean(X1 ** 2) - np.mean(X1) ** 2)\n",
    "b0 = np.mean(Y1) - b1 * np.mean(X1)\n",
    "print(b1, b0)"
   ]
  },
  {
   "cell_type": "code",
   "execution_count": 10,
   "id": "60958b42",
   "metadata": {},
   "outputs": [
    {
     "data": {
      "image/png": "[encoded data removed]",
      "text/plain": [
       "<Figure size 640x480 with 1 Axes>"
      ]
     },
     "metadata": {},
     "output_type": "display_data"
    }
   ],
   "source": [
    "plt.scatter(X1, Y1)\n",
    "plt.plot(X1, b1 * X1 + b0, color='red') #линия регресии\n",
    "plt.show()"
   ]
  },
  {
   "cell_type": "markdown",
   "id": "1269c83f",
   "metadata": {},
   "source": [
    "С intercept"
   ]
  },
  {
   "cell_type": "code",
   "execution_count": 9,
   "id": "6c5a2229",
   "metadata": {},
   "outputs": [
    {
     "name": "stdout",
     "output_type": "stream",
     "text": [
      "[[444.17735732]\n",
      " [  2.62053888]]\n"
     ]
    }
   ],
   "source": [
    "X = X1.reshape((10, 1)) \n",
    "X2 = np.hstack([np.ones((10, 1)), X])\n",
    "Y = Y1.reshape((10, 1))\n",
    "B = np.dot(np.linalg.inv(np.dot(X2.T, X2)), X2.T @ Y) #dot - перемножение матриц\n",
    "print(B)"
   ]
  },
  {
   "cell_type": "markdown",
   "id": "2fef5c20",
   "metadata": {},
   "source": [
    "Уравнение линейной регрессии имеет вид:\n",
    "\n",
    "*y = 2.62 * x + 444.177*"
   ]
  },
  {
   "cell_type": "code",
   "execution_count": 13,
   "id": "1b7558ed",
   "metadata": {},
   "outputs": [
    {
     "name": "stdout",
     "output_type": "stream",
     "text": [
      "реальные значения скоринга: [401 574 874 919 459 739 653 902 746 832]\n",
      "предсказанные: [[535.89621821]\n",
      " [562.10160703]\n",
      " [942.07974498]\n",
      " [968.2851338 ]\n",
      " [548.99891262]\n",
      " [627.61507909]\n",
      " [585.68645697]\n",
      " [837.25818968]\n",
      " [758.64202321]\n",
      " [732.43663439]]\n"
     ]
    }
   ],
   "source": [
    "y = b1 * X + b0\n",
    "print(f'реальные значения скоринга: {Y1[:10]}')\n",
    "print(f'предсказанные: {y[:10]}')"
   ]
  },
  {
   "cell_type": "markdown",
   "id": "077fb5ca",
   "metadata": {},
   "source": [
    "### Задание 2. \n",
    "Посчитать коэффициент линейной регрессии при заработной плате (zp), используя градиентный спуск (без intercept)."
   ]
  },
  {
   "cell_type": "code",
   "execution_count": 41,
   "id": "cf2be40a",
   "metadata": {},
   "outputs": [
    {
     "name": "stdout",
     "output_type": "stream",
     "text": [
      "0.25952808 4672868.836557692\n",
      "5.54537842245223 217853.54976661596\n",
      "5.868748638669329 131810.8077273557\n",
      "5.888531320728348 127244.99680579857\n",
      "5.8897415574471985 126968.28841071585\n",
      "5.889815595583751 126951.37011565862\n",
      "5.889820124983314 126950.33514891358\n",
      "5.889820402076462 126950.2718333306\n",
      "5.88982041902807 126950.26795990097\n",
      "5.889820420065112 126950.26772293777\n"
     ]
    }
   ],
   "source": [
    "def mse(B1, X1, Y1, n):\n",
    "    return np.sum(( B1 * X1 - Y1)) ** 2 / n\n",
    "alpha = 1e-6 #скорость обучения\n",
    "B1 = 0.1\n",
    "n = 10\n",
    "for i in range(10 ** 3):\n",
    "    B1 -= alpha * (2/n) * np.sum(( B1 * X1 - Y1) * X1)\n",
    "    if i % 100 == 0:\n",
    "        print(B1, mse(B1, X1, Y1, n))"
   ]
  },
  {
   "cell_type": "code",
   "execution_count": null,
   "id": "f61c7847",
   "metadata": {},
   "outputs": [],
   "source": []
  },
  {
   "cell_type": "markdown",
   "id": "39b7c06b",
   "metadata": {},
   "source": [
    "### Задание 3.\n",
    "Произвести вычисления как в пункте 2, но с вычислением intercept. Учесть, что изменение коэффициентов должно производиться на каждом шаге одновременно (то есть изменение одного коэффициента не должно влиять на изменение другого во время одной итерации)."
   ]
  },
  {
   "cell_type": "code",
   "execution_count": 37,
   "id": "686a06c1",
   "metadata": {},
   "outputs": [
    {
     "name": "stdout",
     "output_type": "stream",
     "text": [
      "0.25932528 1.001365208833216 4659469.257794535\n",
      "5.880559652417007 1.2663589917844182 126213.74815367624\n",
      "5.878906252800855 1.4909921852882244 126085.75581223071\n",
      "5.877253691742817 1.7155114505495035 125957.89326772056\n",
      "5.875601968821718 1.9399168453497884 125830.16038758177\n",
      "5.873951083612473 2.1642084274412783 125702.55704032336\n",
      "5.872301035690221 2.3883862545468975 125575.08309458639\n",
      "5.870651824630306 2.612450384360264 125447.7384191463\n",
      "5.869003450008296 2.8364008745457627 125320.52288291088\n",
      "5.867355911399971 3.060237782738536 125193.4363549207\n"
     ]
    }
   ],
   "source": [
    "def mse(B1, B0, X1, Y1, n):\n",
    "    return np.sum((B0 + B1 * X1 - Y1)) ** 2 / n\n",
    "alpha = 1e-6 #скорость обучения\n",
    "B0 = 1\n",
    "B1 = 0.1\n",
    "n = 10\n",
    "for i in range(10 ** 4):\n",
    "    B1 -= alpha * (2/n) * np.sum((B0 + B1 * X1 - Y1) * X1)\n",
    "    B0 -= alpha * (2/n) * np.sum((B0 + B1 * X1 - Y1))\n",
    "    if i % 1000 == 0:\n",
    "        print(B1, B0, mse(B1, B0, X1, Y1, n))"
   ]
  },
  {
   "cell_type": "code",
   "execution_count": null,
   "id": "2794d1c1",
   "metadata": {},
   "outputs": [],
   "source": []
  }
 ],
 "metadata": {
  "kernelspec": {
   "display_name": "Python 3 (ipykernel)",
   "language": "python",
   "name": "python3"
  },
  "language_info": {
   "codemirror_mode": {
    "name": "ipython",
    "version": 3
   },
   "file_extension": ".py",
   "mimetype": "text/x-python",
   "name": "python",
   "nbconvert_exporter": "python",
   "pygments_lexer": "ipython3",
   "version": "3.11.3"
  }
 },
 "nbformat": 4,
 "nbformat_minor": 5
}
