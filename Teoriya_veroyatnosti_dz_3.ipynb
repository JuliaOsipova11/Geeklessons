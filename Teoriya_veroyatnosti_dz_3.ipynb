{
 "cells": [
  {
   "cell_type": "code",
   "execution_count": 1,
   "id": "c800a4ce",
   "metadata": {},
   "outputs": [],
   "source": [
    "import pandas as pd\n",
    "import numpy as np\n",
    "from math import factorial as fl"
   ]
  },
  {
   "cell_type": "markdown",
   "id": "e29feec1",
   "metadata": {},
   "source": [
    "### Задача 1.\n",
    "Даны значения зарплат из выборки выпускников: 100, 80, 75, 77, 89, 33, 45, 25, 65, 17, 30, 24, 57, 55, 70, 75, 65, 84, 90, 150. Посчитать (желательно без использования статистических методов наподобие std, var, mean) среднее арифметическое, среднее квадратичное отклонение, смещенную и несмещенную оценки дисперсий для данной выборки."
   ]
  },
  {
   "cell_type": "code",
   "execution_count": 3,
   "id": "1c929b55",
   "metadata": {},
   "outputs": [],
   "source": [
    "data = pd.Series([100, 80, 75, 77, 89, 33, 45, 25, 65, 17, 30, 24, 57, 55, 70, 75, 65, 84, 90, 150])"
   ]
  },
  {
   "cell_type": "markdown",
   "id": "1b37f519",
   "metadata": {},
   "source": [
    "Среднее арифметическое: 1306/20 = 65,3\n",
    "    "
   ]
  },
  {
   "cell_type": "code",
   "execution_count": 2,
   "id": "fddf02ba",
   "metadata": {},
   "outputs": [
    {
     "data": {
      "text/plain": [
       "65.3"
      ]
     },
     "execution_count": 2,
     "metadata": {},
     "output_type": "execute_result"
    }
   ],
   "source": [
    "ME = 65.3\n",
    "ME"
   ]
  },
  {
   "cell_type": "markdown",
   "id": "2083977b",
   "metadata": {},
   "source": [
    "Среднее квадратичное отклонение:"
   ]
  },
  {
   "cell_type": "code",
   "execution_count": 5,
   "id": "bf73d859",
   "metadata": {},
   "outputs": [
    {
     "name": "stdout",
     "output_type": "stream",
     "text": [
      "30.82\n"
     ]
    }
   ],
   "source": [
    "SD = np.sqrt(((data - ME) ** 2).sum() / data.count())\n",
    "print('%.2f' % SD)"
   ]
  },
  {
   "cell_type": "markdown",
   "id": "e5c7dc3e",
   "metadata": {},
   "source": [
    "Cмещенная оценка дисперсий: "
   ]
  },
  {
   "cell_type": "code",
   "execution_count": 7,
   "id": "36f37fd6",
   "metadata": {},
   "outputs": [
    {
     "data": {
      "text/plain": [
       "950.11"
      ]
     },
     "execution_count": 7,
     "metadata": {},
     "output_type": "execute_result"
    }
   ],
   "source": [
    "dispersion = ((data - ME) ** 2).sum() / data.count()\n",
    "dispersion"
   ]
  },
  {
   "cell_type": "markdown",
   "id": "7f15d49a",
   "metadata": {},
   "source": [
    "Несмещенная оценка дисперсий: "
   ]
  },
  {
   "cell_type": "code",
   "execution_count": 9,
   "id": "0965e61c",
   "metadata": {},
   "outputs": [
    {
     "name": "stdout",
     "output_type": "stream",
     "text": [
      "1000.12\n"
     ]
    }
   ],
   "source": [
    "dispersion2 = ((data - ME) ** 2).sum() / (data.count() - 1)\n",
    "print('%.2f' % dispersion2)"
   ]
  },
  {
   "cell_type": "markdown",
   "id": "81fd49f7",
   "metadata": {},
   "source": [
    "### Задача 2.\n",
    "В первом ящике находится 8 мячей, из которых 5 - белые. Во втором ящике - 12 мячей, из которых 5 белых. Из первого ящика вытаскивают случайным образом два мяча, из второго - 4. Какова вероятность того, что 3 мяча белые?"
   ]
  },
  {
   "cell_type": "markdown",
   "id": "f2078dc1",
   "metadata": {},
   "source": [
    "А11 - из первого ящика вынули два белых мяча\n",
    "\n",
    "А12 - из второго ящика вынули один белый мяч\n",
    "\n",
    "А21 - из первого ящика вынули один белый мяч\n",
    "\n",
    "А22 - из второго ящика вынули два белых мяча\n",
    "\n",
    "А31 - из первого ящика вынули ноль белых мячей\n",
    "\n",
    "А32 - из второго ящика вынули три белых мяча\n",
    "\n",
    "А - из ящиков вынули три белых мяча\n",
    "\n",
    "А = А11* А12 + А21* А22 + А31* А32"
   ]
  },
  {
   "cell_type": "code",
   "execution_count": 11,
   "id": "d04276d6",
   "metadata": {},
   "outputs": [],
   "source": [
    "PA11 = (fl(5) / (fl(2) * fl(5 - 2))) * (fl(3) / (fl(0) * fl(3 - 0))) / (fl(8) / (fl(2) * fl(8 - 2)))\n",
    "PA12 = (fl(5) / (fl(1) * fl(5 - 1))) * (fl(7) / (fl(3) * fl(7 - 3))) / (fl(12) / (fl(4) * fl(12 - 4)))\n",
    "PA21 = (fl(5) / (fl(1) * fl(5 - 1))) * (fl(3) / (fl(1) * fl(3 - 1))) / (fl(8) / (fl(2) * fl(8 - 2)))\n",
    "PА22 = (fl(5) / (fl(2) * fl(5 - 2))) * (fl(7) / (fl(2) * fl(7 - 2))) / (fl(12) / (fl(4) * fl(12 - 4)))\n",
    "PA31 = (fl(5) / (fl(0) * fl(5 - 0))) * (fl(3) / (fl(2) * fl(3 - 2))) / (fl(8) / (fl(2) * fl(8 - 2)))\n",
    "PA32 = (fl(5) / (fl(3) * fl(5 - 3))) * (fl(7) / (fl(1) * fl(7 - 1))) / (fl(12) / (fl(4) * fl(12 - 4)))"
   ]
  },
  {
   "cell_type": "code",
   "execution_count": 13,
   "id": "af45d4a2",
   "metadata": {},
   "outputs": [
    {
     "name": "stdout",
     "output_type": "stream",
     "text": [
      "0.37\n"
     ]
    }
   ],
   "source": [
    "PA = PA11 * PA12 + PA21 * PА22 + PA31 * PA32\n",
    "print('%.2f' % PA)"
   ]
  },
  {
   "cell_type": "markdown",
   "id": "ae762ce9",
   "metadata": {},
   "source": [
    "### Задача 3.\n",
    "На соревновании по биатлону один из трех спортсменов стреляет и попадает в мишень. Вероятность попадания для первого спортсмена равна 0.9, для второго — 0.8, для третьего — 0.6. Найти вероятность того, что выстрел произведен: a). первым спортсменом б). вторым спортсменом в). третьим спортсменом."
   ]
  },
  {
   "cell_type": "markdown",
   "id": "c2621cfb",
   "metadata": {},
   "source": [
    "А - мишень поражена\n",
    "\n",
    "А1 - первый стрелок попал в цель\n",
    "\n",
    "А2 - второй стрелок попал в цель\n",
    "\n",
    "А3 - третий стрелок попал в цель"
   ]
  },
  {
   "cell_type": "code",
   "execution_count": 18,
   "id": "58a0b9eb",
   "metadata": {},
   "outputs": [
    {
     "name": "stdout",
     "output_type": "stream",
     "text": [
      "0.77\n"
     ]
    }
   ],
   "source": [
    "PA = 1 / 3 * 0.9 + 1 / 3 * 0.8 + 1 / 3 * 0.6\n",
    "print('%.2f' % PA)"
   ]
  },
  {
   "cell_type": "code",
   "execution_count": 19,
   "id": "5244279d",
   "metadata": {},
   "outputs": [
    {
     "name": "stdout",
     "output_type": "stream",
     "text": [
      "0.39\n"
     ]
    }
   ],
   "source": [
    "PA1 = 1 / 3 * 0.9 / PA\n",
    "print('%.2f' % PA1)"
   ]
  },
  {
   "cell_type": "code",
   "execution_count": 20,
   "id": "d102d35a",
   "metadata": {},
   "outputs": [
    {
     "name": "stdout",
     "output_type": "stream",
     "text": [
      "0.35\n"
     ]
    }
   ],
   "source": [
    "PA2 = 1 / 3 * 0.8 / PA\n",
    "print('%.2f' % PA2)"
   ]
  },
  {
   "cell_type": "code",
   "execution_count": 21,
   "id": "192979f9",
   "metadata": {},
   "outputs": [
    {
     "name": "stdout",
     "output_type": "stream",
     "text": [
      "0.26\n"
     ]
    }
   ],
   "source": [
    "PA3 = 1 / 3 * 0.6 / PA\n",
    "print('%.2f' % PA3)"
   ]
  },
  {
   "cell_type": "markdown",
   "id": "3a0599e3",
   "metadata": {},
   "source": [
    "### Задача 4.\n",
    "В университет на факультеты A и B поступило равное количество студентов, а на факультет C студентов поступило столько же, сколько на A и B вместе. Вероятность того, что студент факультета A сдаст первую сессию, равна 0.8. Для студента факультета B эта вероятность равна 0.7, а для студента факультета C - 0.9. Студент сдал первую сессию. Какова вероятность, что он учится: a). на факультете A б). на факультете B в). на факультете C?"
   ]
  },
  {
   "cell_type": "markdown",
   "id": "daaa488d",
   "metadata": {},
   "source": [
    "А - Студент сдал первую сессию\n",
    "\n",
    "А1 - студент с факультета А\n",
    "\n",
    "А2 - студент с факультета В\n",
    "\n",
    "А3 - студент с факультета С"
   ]
  },
  {
   "cell_type": "code",
   "execution_count": 22,
   "id": "44e6eacd",
   "metadata": {},
   "outputs": [
    {
     "data": {
      "text/plain": [
       "0.825"
      ]
     },
     "execution_count": 22,
     "metadata": {},
     "output_type": "execute_result"
    }
   ],
   "source": [
    "PA = 1 / 4 * 0.8 + 1 / 4 * 0.7 + 2 / 4 * 0.9\n",
    "PA"
   ]
  },
  {
   "cell_type": "code",
   "execution_count": 26,
   "id": "6b0e607a",
   "metadata": {},
   "outputs": [
    {
     "name": "stdout",
     "output_type": "stream",
     "text": [
      "0.24\n"
     ]
    }
   ],
   "source": [
    "PA1 = 1 / 4 * 0.8 / PA\n",
    "print('%.2f' % PA1)"
   ]
  },
  {
   "cell_type": "code",
   "execution_count": 27,
   "id": "dac49b43",
   "metadata": {},
   "outputs": [
    {
     "name": "stdout",
     "output_type": "stream",
     "text": [
      "0.21\n"
     ]
    }
   ],
   "source": [
    "PA2 = 1 / 4 * 0.7 / PA\n",
    "print('%.2f' % PA2)"
   ]
  },
  {
   "cell_type": "code",
   "execution_count": 28,
   "id": "bbbcf695",
   "metadata": {},
   "outputs": [
    {
     "name": "stdout",
     "output_type": "stream",
     "text": [
      "0.55\n"
     ]
    }
   ],
   "source": [
    "PA3 = 2 / 4 * 0.9 / PA\n",
    "print('%.2f' % PA3)"
   ]
  },
  {
   "cell_type": "markdown",
   "id": "89d808e3",
   "metadata": {},
   "source": [
    "### Задача 5.\n",
    "Устройство состоит из трех деталей. Для первой детали вероятность выйти из строя в первый месяц равна 0.1, для второй - 0.2, для третьей - 0.25. Какова вероятность того, что в первый месяц выйдут из строя: а). все детали б). только две детали в). хотя бы одна деталь г). от одной до двух деталей?"
   ]
  },
  {
   "cell_type": "markdown",
   "id": "485cc0c0",
   "metadata": {},
   "source": [
    "А - из строя вышли все детали"
   ]
  },
  {
   "cell_type": "code",
   "execution_count": 30,
   "id": "8222348e",
   "metadata": {},
   "outputs": [
    {
     "name": "stdout",
     "output_type": "stream",
     "text": [
      "0.005\n"
     ]
    }
   ],
   "source": [
    "PA = 0.1 * 0.2 * 0.25\n",
    "print('%.3f' % PA)"
   ]
  },
  {
   "cell_type": "markdown",
   "id": "499f6980",
   "metadata": {},
   "source": [
    "B1 - из строя вышли первая и вторая деталь, но не вышла третья\n",
    "\n",
    "B2 - из строя вышла первая и третья деталь, но не вышла вторая\n",
    "\n",
    "B3 - из строя вышла вторая и третья деталь, но не вышла первая\n",
    "\n",
    "В = B1 + B2 + B3 - из строя вышло только две детали"
   ]
  },
  {
   "cell_type": "code",
   "execution_count": 32,
   "id": "a7ba9617",
   "metadata": {},
   "outputs": [
    {
     "name": "stdout",
     "output_type": "stream",
     "text": [
      "0.08\n"
     ]
    }
   ],
   "source": [
    "PB = 0.1 * 0.2 * 0.75 + 0.1 * 0.8 * 0.25 + 0.9 * 0.2 * 0.25\n",
    "print('%.2f' % PB)"
   ]
  },
  {
   "cell_type": "markdown",
   "id": "f3d991f0",
   "metadata": {},
   "source": [
    "C - из строя вышла хотя бы одна деталь"
   ]
  },
  {
   "cell_type": "code",
   "execution_count": 33,
   "id": "01021550",
   "metadata": {},
   "outputs": [
    {
     "name": "stdout",
     "output_type": "stream",
     "text": [
      "0.46\n"
     ]
    }
   ],
   "source": [
    "PC = 1 - 0.9 * 0.8 * 0.75\n",
    "print('%.2f' % PC)"
   ]
  },
  {
   "cell_type": "markdown",
   "id": "8c335e1c",
   "metadata": {},
   "source": [
    "D1 - из строя вышла первая деталь\n",
    "\n",
    "D2 - из строя вышла вторая деталь\n",
    "\n",
    "D3 - из строя вышла третья деталь\n",
    "\n",
    "D - из строя вышла одна деталь\n",
    "\n",
    "Е = В + D - из строя вышло от одной до двух деталей"
   ]
  },
  {
   "cell_type": "code",
   "execution_count": 34,
   "id": "72ec38da",
   "metadata": {},
   "outputs": [
    {
     "data": {
      "text/plain": [
       "0.08"
      ]
     },
     "execution_count": 34,
     "metadata": {},
     "output_type": "execute_result"
    }
   ],
   "source": [
    "PD = 0.9 * 0.2 * 0.25 + 0.1 * 0.8 * 0.25 + 0.1 * 0.2 * 0.75\n",
    "PD"
   ]
  },
  {
   "cell_type": "code",
   "execution_count": 36,
   "id": "c9ec4cda",
   "metadata": {},
   "outputs": [
    {
     "name": "stdout",
     "output_type": "stream",
     "text": [
      "0.16\n"
     ]
    }
   ],
   "source": [
    "PE = PB + PD\n",
    "print('%.2f' % PE)"
   ]
  },
  {
   "cell_type": "code",
   "execution_count": null,
   "id": "a50962ca",
   "metadata": {},
   "outputs": [],
   "source": []
  }
 ],
 "metadata": {
  "kernelspec": {
   "display_name": "Python 3 (ipykernel)",
   "language": "python",
   "name": "python3"
  },
  "language_info": {
   "codemirror_mode": {
    "name": "ipython",
    "version": 3
   },
   "file_extension": ".py",
   "mimetype": "text/x-python",
   "name": "python",
   "nbconvert_exporter": "python",
   "pygments_lexer": "ipython3",
   "version": "3.11.3"
  }
 },
 "nbformat": 4,
 "nbformat_minor": 5
}
