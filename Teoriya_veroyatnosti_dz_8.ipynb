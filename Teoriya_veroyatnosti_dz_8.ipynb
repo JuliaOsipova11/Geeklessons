{
 "cells": [
  {
   "cell_type": "markdown",
   "id": "cc79fe7e",
   "metadata": {},
   "source": [
    "### Задача 1\n",
    "Даны значения величины заработной платы заемщиков банка (zp) и значения их поведенческого кредитного скоринга (ks): zp = [35, 45, 190, 200, 40, 70, 54, 150, 120, 110], ks = [401, 574, 874, 919, 459, 739, 653, 902, 746, 832]. Найдите ковариацию этих двух величин с помощью элементарных действий, а затем с помощью функции cov из numpy Полученные значения должны быть равны. Найдите коэффициент корреляции Пирсона с помощью ковариации и среднеквадратичных отклонений двух признаков, а затем с использованием функций из библиотек numpy и pandas."
   ]
  },
  {
   "cell_type": "code",
   "execution_count": 1,
   "id": "eb868cfd",
   "metadata": {},
   "outputs": [],
   "source": [
    "import numpy as np\n",
    "import pandas as pd"
   ]
  },
  {
   "cell_type": "code",
   "execution_count": 2,
   "id": "2658b7ca",
   "metadata": {},
   "outputs": [],
   "source": [
    "zp = np.array([35, 45, 190, 200, 40, 70, 54, 150, 120, 110])\n",
    "ks = np.array([401, 574, 874, 919, 459, 739, 653, 902, 746, 832])"
   ]
  },
  {
   "cell_type": "code",
   "execution_count": 4,
   "id": "4f40e55c",
   "metadata": {},
   "outputs": [],
   "source": [
    "M_X = zp.mean()\n",
    "M_Y = ks.mean()\n",
    "M_XY = (zp * ks).mean()"
   ]
  },
  {
   "cell_type": "code",
   "execution_count": 5,
   "id": "50f131d4",
   "metadata": {},
   "outputs": [
    {
     "data": {
      "text/plain": [
       "9157.839999999997"
      ]
     },
     "execution_count": 5,
     "metadata": {},
     "output_type": "execute_result"
    }
   ],
   "source": [
    "cov_xy = M_XY - M_X * M_Y\n",
    "cov_xy"
   ]
  },
  {
   "cell_type": "code",
   "execution_count": 13,
   "id": "0ba7b440",
   "metadata": {},
   "outputs": [
    {
     "data": {
      "text/plain": [
       "array([[ 3494.64,  9157.84],\n",
       "       [ 9157.84, 30468.89]])"
      ]
     },
     "execution_count": 13,
     "metadata": {},
     "output_type": "execute_result"
    }
   ],
   "source": [
    "np.cov(zp, ks, ddof=0)"
   ]
  },
  {
   "cell_type": "code",
   "execution_count": 7,
   "id": "95b7cca1",
   "metadata": {},
   "outputs": [
    {
     "data": {
      "text/plain": [
       "9157.84"
      ]
     },
     "execution_count": 7,
     "metadata": {},
     "output_type": "execute_result"
    }
   ],
   "source": [
    "cov_xy2 = ((zp - zp.mean()) * (ks - ks.mean())).mean()\n",
    "cov_xy2"
   ]
  },
  {
   "cell_type": "code",
   "execution_count": 8,
   "id": "e2015042",
   "metadata": {},
   "outputs": [],
   "source": [
    "std_X = zp.std()\n",
    "std_Y = ks.std()"
   ]
  },
  {
   "cell_type": "code",
   "execution_count": 10,
   "id": "252807c0",
   "metadata": {},
   "outputs": [
    {
     "data": {
      "text/plain": [
       "0.8874900920739158"
      ]
     },
     "execution_count": 10,
     "metadata": {},
     "output_type": "execute_result"
    }
   ],
   "source": [
    "corr_xy = cov_xy / (std_X * std_Y)\n",
    "corr_xy"
   ]
  },
  {
   "cell_type": "code",
   "execution_count": 11,
   "id": "3421c423",
   "metadata": {},
   "outputs": [
    {
     "data": {
      "text/plain": [
       "array([[1.        , 0.88749009],\n",
       "       [0.88749009, 1.        ]])"
      ]
     },
     "execution_count": 11,
     "metadata": {},
     "output_type": "execute_result"
    }
   ],
   "source": [
    "np.corrcoef(zp, ks)"
   ]
  },
  {
   "cell_type": "markdown",
   "id": "0844d502",
   "metadata": {},
   "source": [
    "### Задача 2.\n",
    "Измерены значения IQ выборки студентов, обучающихся в местных технических вузах: 131, 125, 115, 122, 131, 115, 107, 99, 125, 111. Известно, что в генеральной совокупности IQ распределен нормально. Найдите доверительный интервал для математического ожидания с надежностью 0.95."
   ]
  },
  {
   "cell_type": "code",
   "execution_count": 23,
   "id": "cbe74e11",
   "metadata": {},
   "outputs": [],
   "source": [
    "from scipy import stats"
   ]
  },
  {
   "cell_type": "code",
   "execution_count": 18,
   "id": "a2bb9e1a",
   "metadata": {},
   "outputs": [],
   "source": [
    "X = np.array([131, 125, 115, 122, 131, 115, 107, 99, 125, 111])"
   ]
  },
  {
   "cell_type": "code",
   "execution_count": 19,
   "id": "80bf3583",
   "metadata": {},
   "outputs": [
    {
     "data": {
      "text/plain": [
       "118.1"
      ]
     },
     "execution_count": 19,
     "metadata": {},
     "output_type": "execute_result"
    }
   ],
   "source": [
    "mean_X = X.mean()\n",
    "mean_X"
   ]
  },
  {
   "cell_type": "code",
   "execution_count": 20,
   "id": "a03c12af",
   "metadata": {},
   "outputs": [
    {
     "data": {
      "text/plain": [
       "10.54566788359614"
      ]
     },
     "execution_count": 20,
     "metadata": {},
     "output_type": "execute_result"
    }
   ],
   "source": [
    "std_X = X.std(ddof=1)\n",
    "std_X"
   ]
  },
  {
   "cell_type": "code",
   "execution_count": 21,
   "id": "059aa740",
   "metadata": {},
   "outputs": [
    {
     "data": {
      "text/plain": [
       "10"
      ]
     },
     "execution_count": 21,
     "metadata": {},
     "output_type": "execute_result"
    }
   ],
   "source": [
    "len(X)"
   ]
  },
  {
   "cell_type": "code",
   "execution_count": 24,
   "id": "756ac5e1",
   "metadata": {},
   "outputs": [
    {
     "name": "stdout",
     "output_type": "stream",
     "text": [
      "110.55608365158724 125.64391634841274\n"
     ]
    }
   ],
   "source": [
    "t_table = stats.t.ppf(0.975, len(X) - 1) #критерий для 95% интервала\n",
    "print(mean_X - t_table * std_X / len(X) ** 0.5, mean_X + t_table * std_X / len(X) ** 0.5)"
   ]
  },
  {
   "cell_type": "markdown",
   "id": "b350eb92",
   "metadata": {},
   "source": [
    "Доверительный интервал: 110,56 < a < 125,64"
   ]
  },
  {
   "cell_type": "markdown",
   "id": "36ca2ac0",
   "metadata": {},
   "source": [
    "### Задача 3.\n",
    "Известно, что рост футболистов в сборной распределен нормально с дисперсией генеральной совокупности, равной 25 кв.см. Объем выборки равен 27, среднее выборочное составляет 174.2. Найдите доверительный интервал для математического ожидания с надежностью 0.95."
   ]
  },
  {
   "cell_type": "code",
   "execution_count": 41,
   "id": "c56770c0",
   "metadata": {},
   "outputs": [],
   "source": [
    "mean_X = 174.2\n",
    "len_X = 27\n",
    "std_X = 25 ** 0.5"
   ]
  },
  {
   "cell_type": "code",
   "execution_count": 42,
   "id": "2fe38082",
   "metadata": {},
   "outputs": [
    {
     "data": {
      "text/plain": [
       "1.959963984540054"
      ]
     },
     "execution_count": 42,
     "metadata": {},
     "output_type": "execute_result"
    }
   ],
   "source": [
    "z_table = stats.norm.ppf(0.975)\n",
    "z_table"
   ]
  },
  {
   "cell_type": "code",
   "execution_count": 43,
   "id": "bd2f7c01",
   "metadata": {},
   "outputs": [
    {
     "name": "stdout",
     "output_type": "stream",
     "text": [
      "172.3140237765397 176.08597622346028\n"
     ]
    }
   ],
   "source": [
    "print (mean_X - z_table * std_X / len_X ** 0.5, mean_X + z_table * std_X / len_X ** 0.5)"
   ]
  },
  {
   "cell_type": "markdown",
   "id": "4d228887",
   "metadata": {},
   "source": [
    "Доверительный интервал 172,31 < a < 176,09"
   ]
  },
  {
   "cell_type": "code",
   "execution_count": null,
   "id": "506b91b4",
   "metadata": {},
   "outputs": [],
   "source": []
  }
 ],
 "metadata": {
  "kernelspec": {
   "display_name": "Python 3 (ipykernel)",
   "language": "python",
   "name": "python3"
  },
  "language_info": {
   "codemirror_mode": {
    "name": "ipython",
    "version": 3
   },
   "file_extension": ".py",
   "mimetype": "text/x-python",
   "name": "python",
   "nbconvert_exporter": "python",
   "pygments_lexer": "ipython3",
   "version": "3.11.3"
  }
 },
 "nbformat": 4,
 "nbformat_minor": 5
}
