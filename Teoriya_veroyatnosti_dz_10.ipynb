{
 "cells": [
  {
   "cell_type": "markdown",
   "id": "fbf03fa9",
   "metadata": {},
   "source": [
    "### Задача.\n",
    "Провести дисперсионный анализ для определения того, есть ли различия среднего роста среди взрослых футболистов, хоккеистов и штангистов. Даны значения роста в трех группах случайно выбранных спортсменов: Футболисты: 173, 175, 180, 178, 177, 185, 183, 182. Хоккеисты: 177, 179, 180, 188, 177, 172, 171, 184, 180. Штангисты: 172, 173, 169, 177, 166, 180, 178, 177, 172, 166, 170."
   ]
  },
  {
   "cell_type": "code",
   "execution_count": 35,
   "id": "4bd4bead",
   "metadata": {},
   "outputs": [],
   "source": [
    "import pandas as pd\n",
    "import numpy as np\n",
    "from scipy import stats"
   ]
  },
  {
   "cell_type": "code",
   "execution_count": 3,
   "id": "1939c55e",
   "metadata": {},
   "outputs": [],
   "source": [
    "footballers = np.array([173, 175, 180, 178, 177, 185, 183, 182])\n",
    "hockey_players = np.array([177, 179, 180, 188, 177, 172, 171, 184, 180])\n",
    "weightlifters = np.array([172, 173, 169, 177, 166, 180, 178, 177, 172, 166, 170])"
   ]
  },
  {
   "cell_type": "code",
   "execution_count": 17,
   "id": "ae5f01c0",
   "metadata": {},
   "outputs": [
    {
     "data": {
      "text/plain": [
       "(8, 9, 11)"
      ]
     },
     "execution_count": 17,
     "metadata": {},
     "output_type": "execute_result"
    }
   ],
   "source": [
    "len(footballers), len(hockey_players), len(weightlifters)"
   ]
  },
  {
   "cell_type": "code",
   "execution_count": 7,
   "id": "47191f56",
   "metadata": {},
   "outputs": [
    {
     "data": {
      "text/plain": [
       "(179.125, 178.66666666666666, 172.72727272727272)"
      ]
     },
     "execution_count": 7,
     "metadata": {},
     "output_type": "execute_result"
    }
   ],
   "source": [
    "f_mean = np.mean(footballers)\n",
    "h_mean = np.mean(hockey_players) \n",
    "w_mean = np.mean(weightlifters)\n",
    "f_mean, h_mean, w_mean"
   ]
  },
  {
   "cell_type": "code",
   "execution_count": 11,
   "id": "b6b3a5ba",
   "metadata": {},
   "outputs": [
    {
     "data": {
      "text/plain": [
       "176.46428571428572"
      ]
     },
     "execution_count": 11,
     "metadata": {},
     "output_type": "execute_result"
    }
   ],
   "source": [
    "all = np.hstack((footballers,hockey_players, weightlifters))\n",
    "all_mean = all.mean()\n",
    "all_mean"
   ]
  },
  {
   "cell_type": "code",
   "execution_count": 15,
   "id": "9b2d0531",
   "metadata": {},
   "outputs": [
    {
     "data": {
      "text/plain": [
       "830.9642857142854"
      ]
     },
     "execution_count": 15,
     "metadata": {},
     "output_type": "execute_result"
    }
   ],
   "source": [
    "np.sum((all - all_mean) ** 2) #сумма квадратов отклонений наблюдений от общего среднего"
   ]
  },
  {
   "cell_type": "code",
   "execution_count": 21,
   "id": "751810df",
   "metadata": {},
   "outputs": [
    {
     "data": {
      "text/plain": [
       "253.9074675324678"
      ]
     },
     "execution_count": 21,
     "metadata": {},
     "output_type": "execute_result"
    }
   ],
   "source": [
    "s_f = (f_mean - all_mean) ** 2 * 8 + (h_mean - all_mean) ** 2 * 9 + (w_mean - all_mean) ** 2 * 11\n",
    "s_f"
   ]
  },
  {
   "cell_type": "markdown",
   "id": "1a1039a6",
   "metadata": {},
   "source": [
    "Остаточная сумма квадратов отклонений"
   ]
  },
  {
   "cell_type": "code",
   "execution_count": 24,
   "id": "8a6dd7af",
   "metadata": {},
   "outputs": [
    {
     "data": {
      "text/plain": [
       "577.0568181818182"
      ]
     },
     "execution_count": 24,
     "metadata": {},
     "output_type": "execute_result"
    }
   ],
   "source": [
    "s_ost = np.sum((footballers - f_mean) ** 2) + np.sum((hockey_players - h_mean) ** 2) + np.sum((weightlifters - w_mean) ** 2)\n",
    "s_ost"
   ]
  },
  {
   "cell_type": "code",
   "execution_count": 25,
   "id": "f4aa96b3",
   "metadata": {},
   "outputs": [
    {
     "data": {
      "text/plain": [
       "830.964285714286"
      ]
     },
     "execution_count": 25,
     "metadata": {},
     "output_type": "execute_result"
    }
   ],
   "source": [
    "s_ost + s_f"
   ]
  },
  {
   "cell_type": "code",
   "execution_count": 27,
   "id": "406a3e42",
   "metadata": {},
   "outputs": [
    {
     "data": {
      "text/plain": [
       "126.9537337662339"
      ]
     },
     "execution_count": 27,
     "metadata": {},
     "output_type": "execute_result"
    }
   ],
   "source": [
    "D_f = s_f / (3-1)\n",
    "D_f"
   ]
  },
  {
   "cell_type": "code",
   "execution_count": 31,
   "id": "7dab425f",
   "metadata": {},
   "outputs": [
    {
     "data": {
      "text/plain": [
       "28"
      ]
     },
     "execution_count": 31,
     "metadata": {},
     "output_type": "execute_result"
    }
   ],
   "source": [
    "len(all)"
   ]
  },
  {
   "cell_type": "code",
   "execution_count": 32,
   "id": "5be501b6",
   "metadata": {},
   "outputs": [
    {
     "data": {
      "text/plain": [
       "23.08227272727273"
      ]
     },
     "execution_count": 32,
     "metadata": {},
     "output_type": "execute_result"
    }
   ],
   "source": [
    "D_ost = s_ost / (len(all)-3)\n",
    "D_ost"
   ]
  },
  {
   "cell_type": "code",
   "execution_count": 33,
   "id": "65879da5",
   "metadata": {},
   "outputs": [
    {
     "data": {
      "text/plain": [
       "5.500053450812598"
      ]
     },
     "execution_count": 33,
     "metadata": {},
     "output_type": "execute_result"
    }
   ],
   "source": [
    "F_n = D_f / D_ost\n",
    "F_n"
   ]
  },
  {
   "cell_type": "code",
   "execution_count": 36,
   "id": "3fea8fa8",
   "metadata": {},
   "outputs": [
    {
     "data": {
      "text/plain": [
       "F_onewayResult(statistic=5.500053450812596, pvalue=0.010482206918698694)"
      ]
     },
     "execution_count": 36,
     "metadata": {},
     "output_type": "execute_result"
    }
   ],
   "source": [
    "f = stats.f_oneway(footballers, hockey_players, weightlifters)\n",
    "f"
   ]
  },
  {
   "cell_type": "markdown",
   "id": "c89601ba",
   "metadata": {},
   "source": [
    "Зафиксируем уровень значимости a = 0.05. Для него найдём критическое значение:"
   ]
  },
  {
   "cell_type": "code",
   "execution_count": 41,
   "id": "93311c48",
   "metadata": {},
   "outputs": [
    {
     "data": {
      "text/plain": [
       "3.3851899614491687"
      ]
     },
     "execution_count": 41,
     "metadata": {},
     "output_type": "execute_result"
    }
   ],
   "source": [
    "alpha = 0.05\n",
    "\n",
    "F_table = stats.f.ppf(1 - alpha, 2, 25)\n",
    "F_table"
   ]
  },
  {
   "cell_type": "markdown",
   "id": "08659a3b",
   "metadata": {},
   "source": [
    "Fn > F_table, следовательно мы попали в область принятия альтернативной гипотезы. Поэтому различия между средним ростом среди взрослых футболистов, хоккеистов и штангистов статистически значимые."
   ]
  }
 ],
 "metadata": {
  "kernelspec": {
   "display_name": "Python 3 (ipykernel)",
   "language": "python",
   "name": "python3"
  },
  "language_info": {
   "codemirror_mode": {
    "name": "ipython",
    "version": 3
   },
   "file_extension": ".py",
   "mimetype": "text/x-python",
   "name": "python",
   "nbconvert_exporter": "python",
   "pygments_lexer": "ipython3",
   "version": "3.11.3"
  }
 },
 "nbformat": 4,
 "nbformat_minor": 5
}
